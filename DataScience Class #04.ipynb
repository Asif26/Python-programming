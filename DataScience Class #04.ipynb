{
 "cells": [
  {
   "cell_type": "code",
   "execution_count": 2,
   "id": "f76b9044",
   "metadata": {},
   "outputs": [
    {
     "data": {
      "text/plain": [
       "[[1, 5], [2, 6], [3, 7], [4, 8]]"
      ]
     },
     "execution_count": 2,
     "metadata": {},
     "output_type": "execute_result"
    }
   ],
   "source": [
    "matrix = [[1,2,3,4],[5,6,7,8]]\n",
    "transpose = []\n",
    "for i in range(len(matrix[0])):\n",
    "    row = []\n",
    "    for j in matrix:\n",
    "        row.append(j[i])\n",
    "    transpose.append(row)\n",
    "transpose"
   ]
  },
  {
   "cell_type": "code",
   "execution_count": 4,
   "id": "b273a40a",
   "metadata": {},
   "outputs": [
    {
     "data": {
      "text/plain": [
       "[[1, 5], [2, 6], [3, 7], [4, 8]]"
      ]
     },
     "execution_count": 4,
     "metadata": {},
     "output_type": "execute_result"
    }
   ],
   "source": [
    "transpose1 = [[row[i]for row in matrix]for i in range(len(matrix[0]))]\n",
    "transpose1"
   ]
  },
  {
   "cell_type": "code",
   "execution_count": 8,
   "id": "9a81bcb4",
   "metadata": {},
   "outputs": [
    {
     "name": "stdout",
     "output_type": "stream",
     "text": [
      "0\n",
      "1\n",
      "2\n",
      "3\n",
      "4\n",
      "5\n",
      "6\n",
      "7\n",
      "8\n",
      "9\n",
      "0\n",
      "2\n",
      "4\n",
      "6\n",
      "8\n"
     ]
    }
   ],
   "source": [
    "for i in range(10):\n",
    "    print(i)\n",
    "for i in range(10):\n",
    "    if i%2== 0:\n",
    "        print(i)"
   ]
  },
  {
   "cell_type": "code",
   "execution_count": 9,
   "id": "63eaa94b",
   "metadata": {},
   "outputs": [
    {
     "name": "stdout",
     "output_type": "stream",
     "text": [
      "1\n",
      "4\n",
      "7\n"
     ]
    }
   ],
   "source": [
    "for i in range(1,10,3):\n",
    "    print(i)"
   ]
  },
  {
   "cell_type": "code",
   "execution_count": 15,
   "id": "998d63e1",
   "metadata": {},
   "outputs": [],
   "source": [
    "for i in range(10,1,):\n",
    "    print(i)"
   ]
  },
  {
   "cell_type": "markdown",
   "id": "4990f07e",
   "metadata": {},
   "source": [
    "# Dictionary"
   ]
  },
  {
   "cell_type": "code",
   "execution_count": 16,
   "id": "2b23ff5c",
   "metadata": {},
   "outputs": [],
   "source": [
    "a = {'ali':\"03482927365\", \"hyder\":\"03421302016\"}"
   ]
  },
  {
   "cell_type": "code",
   "execution_count": 17,
   "id": "d57e28dd",
   "metadata": {},
   "outputs": [
    {
     "data": {
      "text/plain": [
       "{'ali': '03482927365', 'hyder': '03421302016'}"
      ]
     },
     "execution_count": 17,
     "metadata": {},
     "output_type": "execute_result"
    }
   ],
   "source": [
    "a"
   ]
  },
  {
   "cell_type": "code",
   "execution_count": 18,
   "id": "ce76464b",
   "metadata": {},
   "outputs": [
    {
     "data": {
      "text/plain": [
       "dict"
      ]
     },
     "execution_count": 18,
     "metadata": {},
     "output_type": "execute_result"
    }
   ],
   "source": [
    "type(a)"
   ]
  },
  {
   "cell_type": "code",
   "execution_count": 19,
   "id": "963ff80a",
   "metadata": {},
   "outputs": [],
   "source": [
    "b = dict([(1,'a'),(2,'b'),(3,'c')])"
   ]
  },
  {
   "cell_type": "code",
   "execution_count": 20,
   "id": "d2a614ef",
   "metadata": {},
   "outputs": [
    {
     "data": {
      "text/plain": [
       "{1: 'a', 2: 'b', 3: 'c'}"
      ]
     },
     "execution_count": 20,
     "metadata": {},
     "output_type": "execute_result"
    }
   ],
   "source": [
    "b"
   ]
  },
  {
   "cell_type": "code",
   "execution_count": 21,
   "id": "72804ef8",
   "metadata": {},
   "outputs": [
    {
     "data": {
      "text/plain": [
       "dict"
      ]
     },
     "execution_count": 21,
     "metadata": {},
     "output_type": "execute_result"
    }
   ],
   "source": [
    "type(b)"
   ]
  },
  {
   "cell_type": "code",
   "execution_count": null,
   "id": "66170bbf",
   "metadata": {},
   "outputs": [],
   "source": [
    "list1= [1,2,3,4,5,6,7]\n",
    "list2 =['a','b','c','d','e','f','g']\n",
    "res={}\n",
    "\n",
    "#for key in list1:\n",
    " #   for value in list2:\n",
    "  #      res[key]=value\n",
    "   #     list2.remove(value)\n",
    "    #    break\n",
    "res1 = dict(zip(list1,list2))\n",
    "\n",
    "res"
   ]
  },
  {
   "cell_type": "code",
   "execution_count": null,
   "id": "d1fc5249",
   "metadata": {},
   "outputs": [],
   "source": [
    "M"
   ]
  },
  {
   "cell_type": "code",
   "execution_count": null,
   "id": "8c1298c2",
   "metadata": {},
   "outputs": [],
   "source": []
  },
  {
   "cell_type": "code",
   "execution_count": 31,
   "id": "ef8aba8a",
   "metadata": {},
   "outputs": [],
   "source": [
    "# res1 = dict(zip(list1,list2))"
   ]
  },
  {
   "cell_type": "code",
   "execution_count": 32,
   "id": "4b30c78c",
   "metadata": {},
   "outputs": [
    {
     "data": {
      "text/plain": [
       "{1: 'a', 2: 'b', 3: 'c', 4: 'd', 5: 'e', 6: 'f', 7: 'g'}"
      ]
     },
     "execution_count": 32,
     "metadata": {},
     "output_type": "execute_result"
    }
   ],
   "source": [
    "res1"
   ]
  },
  {
   "cell_type": "code",
   "execution_count": 7,
   "id": "684707b9",
   "metadata": {},
   "outputs": [
    {
     "name": "stdout",
     "output_type": "stream",
     "text": [
      "2 x 1 = 2\n",
      "2 x 2 = 4\n",
      "2 x 3 = 6\n",
      "2 x 4 = 8\n",
      "2 x 5 = 10\n",
      "2 x 6 = 12\n",
      "2 x 7 = 14\n",
      "2 x 8 = 16\n",
      "2 x 9 = 18\n",
      "2 x 10 = 20\n"
     ]
    }
   ],
   "source": [
    "h=[x*2 for x in range(1,11)]\n",
    "for i in range(len(h)):\n",
    "    print(str(2)+ \" x \" + str(i+1)+ \" = \" +str(h[i]))"
   ]
  },
  {
   "cell_type": "code",
   "execution_count": null,
   "id": "530213fb",
   "metadata": {},
   "outputs": [],
   "source": []
  }
 ],
 "metadata": {
  "kernelspec": {
   "display_name": "Python 3 (ipykernel)",
   "language": "python",
   "name": "python3"
  },
  "language_info": {
   "codemirror_mode": {
    "name": "ipython",
    "version": 3
   },
   "file_extension": ".py",
   "mimetype": "text/x-python",
   "name": "python",
   "nbconvert_exporter": "python",
   "pygments_lexer": "ipython3",
   "version": "3.9.7"
  }
 },
 "nbformat": 4,
 "nbformat_minor": 5
}
