{
 "cells": [
  {
   "cell_type": "markdown",
   "id": "2192b6f1",
   "metadata": {},
   "source": [
    "## Class"
   ]
  },
  {
   "cell_type": "code",
   "execution_count": 18,
   "id": "bcff3a95",
   "metadata": {},
   "outputs": [],
   "source": [
    "# Define Class\n",
    "class Car():\n",
    "    #attributes >>>> are variables in programing\n",
    "\n",
    "    def __init__(self, make, model, year):\n",
    "        self.make = make\n",
    "        self.model = model\n",
    "        self.year = year\n",
    "        self.battery = \"200Amp\"\n",
    "        \n",
    "    \n",
    "    #behaviours >>>> functions (action)\n",
    "    def description(self):\n",
    "        print(f\"The make of car is {self.make}\")\n",
    "        print(f\"The model of car is {self.model}\")\n",
    "        print(f\"The year of car is {self.year}\")\n",
    "        \n",
    "    def move(self):\n",
    "        print(f\"{self.make} is moving with speed\")\n",
    "    def applyingbreak(self):\n",
    "        print(f\"{self.model} is applying break\")\n",
    "    def desBattery(self):\n",
    "        print(f\"The Battery of car is {self.battery}\")"
   ]
  },
  {
   "cell_type": "code",
   "execution_count": 19,
   "id": "d4f69e7b",
   "metadata": {},
   "outputs": [],
   "source": [
    "## How to creat objects\n",
    "car1 = Car(\"Honda\",\"civic\", 2022)"
   ]
  },
  {
   "cell_type": "code",
   "execution_count": 20,
   "id": "1666daf4",
   "metadata": {},
   "outputs": [
    {
     "data": {
      "text/plain": [
       "'Honda'"
      ]
     },
     "execution_count": 20,
     "metadata": {},
     "output_type": "execute_result"
    }
   ],
   "source": [
    "car1.make"
   ]
  },
  {
   "cell_type": "code",
   "execution_count": 21,
   "id": "bf1bfc1f",
   "metadata": {},
   "outputs": [
    {
     "name": "stdout",
     "output_type": "stream",
     "text": [
      "civic is applying break\n"
     ]
    }
   ],
   "source": [
    "car1.applyingbreak()"
   ]
  },
  {
   "cell_type": "code",
   "execution_count": 22,
   "id": "ee22c65f",
   "metadata": {},
   "outputs": [],
   "source": [
    "car2 = Car(\"Suzuki\",\"Mehran\", 2018)"
   ]
  },
  {
   "cell_type": "code",
   "execution_count": 23,
   "id": "451b2dcf",
   "metadata": {},
   "outputs": [
    {
     "name": "stdout",
     "output_type": "stream",
     "text": [
      "The make of car is Honda\n",
      "The model of car is civic\n",
      "The year of car is 2022\n"
     ]
    }
   ],
   "source": [
    "car1.description()"
   ]
  },
  {
   "cell_type": "code",
   "execution_count": 24,
   "id": "c7155ab5",
   "metadata": {},
   "outputs": [
    {
     "name": "stdout",
     "output_type": "stream",
     "text": [
      "The make of car is Suzuki\n",
      "The model of car is Mehran\n",
      "The year of car is 2018\n"
     ]
    }
   ],
   "source": [
    "car2.description()"
   ]
  },
  {
   "cell_type": "markdown",
   "id": "9822fecb",
   "metadata": {},
   "source": [
    "## Changing attributes"
   ]
  },
  {
   "cell_type": "code",
   "execution_count": 14,
   "id": "e2979ed6",
   "metadata": {},
   "outputs": [],
   "source": [
    "car1.make = \"Suzuki\""
   ]
  },
  {
   "cell_type": "code",
   "execution_count": 15,
   "id": "8f624ac2",
   "metadata": {},
   "outputs": [
    {
     "data": {
      "text/plain": [
       "'Suzuki'"
      ]
     },
     "execution_count": 15,
     "metadata": {},
     "output_type": "execute_result"
    }
   ],
   "source": [
    "car1.make"
   ]
  },
  {
   "cell_type": "code",
   "execution_count": 16,
   "id": "b39ebbf4",
   "metadata": {},
   "outputs": [
    {
     "data": {
      "text/plain": [
       "'Suzuki'"
      ]
     },
     "execution_count": 16,
     "metadata": {},
     "output_type": "execute_result"
    }
   ],
   "source": [
    "car2.make"
   ]
  },
  {
   "cell_type": "code",
   "execution_count": 17,
   "id": "5649b538",
   "metadata": {},
   "outputs": [
    {
     "name": "stdout",
     "output_type": "stream",
     "text": [
      "civic is applying break\n"
     ]
    }
   ],
   "source": [
    "car1.applyingbreak()"
   ]
  },
  {
   "cell_type": "code",
   "execution_count": 28,
   "id": "a3da6143",
   "metadata": {},
   "outputs": [
    {
     "name": "stdout",
     "output_type": "stream",
     "text": [
      "The make of car is Honda\n",
      "The model of car is civic\n",
      "The year of car is 2022\n",
      "The Battery of car is 200Amp\n"
     ]
    }
   ],
   "source": [
    "car1.description()\n",
    "car1.desBattery()"
   ]
  },
  {
   "cell_type": "code",
   "execution_count": null,
   "id": "b95fe129",
   "metadata": {},
   "outputs": [],
   "source": []
  }
 ],
 "metadata": {
  "kernelspec": {
   "display_name": "Python 3 (ipykernel)",
   "language": "python",
   "name": "python3"
  },
  "language_info": {
   "codemirror_mode": {
    "name": "ipython",
    "version": 3
   },
   "file_extension": ".py",
   "mimetype": "text/x-python",
   "name": "python",
   "nbconvert_exporter": "python",
   "pygments_lexer": "ipython3",
   "version": "3.9.7"
  }
 },
 "nbformat": 4,
 "nbformat_minor": 5
}
